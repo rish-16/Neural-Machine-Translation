{
 "cells": [
  {
   "cell_type": "code",
   "execution_count": 2,
   "metadata": {},
   "outputs": [
    {
     "name": "stdout",
     "output_type": "stream",
     "text": [
      "Neural Machine Translation.ipynb\n",
      "--2019-06-14 16:41:23--  http://www.manythings.org/anki/deu-eng.zip\n",
      "Resolving www.manythings.org (www.manythings.org)... 104.24.109.196, 104.24.108.196\n",
      "Connecting to www.manythings.org (www.manythings.org)|104.24.109.196|:80... connected.\n",
      "HTTP request sent, awaiting response... 200 OK\n",
      "Length: 4480305 (4.3M) [application/zip]\n",
      "Saving to: ‘deu-eng.zip’\n",
      "\n",
      "deu-eng.zip         100%[===================>]   4.27M   596KB/s    in 7.6s    \n",
      "\n",
      "2019-06-14 16:41:31 (574 KB/s) - ‘deu-eng.zip’ saved [4480305/4480305]\n",
      "\n",
      "Archive:  deu-eng.zip\n",
      "  inflating: deu.txt                 \n",
      "  inflating: _about.txt              \n"
     ]
    }
   ],
   "source": [
    "# Importing English to German dataset\n",
    "\n",
    "!ls\n",
    "!wget http://www.manythings.org/anki/deu-eng.zip\n",
    "!unzip deu-eng.zip"
   ]
  },
  {
   "cell_type": "code",
   "execution_count": 4,
   "metadata": {},
   "outputs": [
    {
     "name": "stdout",
     "output_type": "stream",
     "text": [
      "Hi.\tHallo!\r\n",
      "Hi.\tGrüß Gott!\r\n",
      "Run!\tLauf!\r\n",
      "Wow!\tPotzdonner!\r\n",
      "Wow!\tDonnerwetter!\r\n",
      "Fire!\tFeuer!\r\n",
      "Help!\tHilfe!\r\n",
      "Help!\tZu Hülf!\r\n",
      "Stop!\tStopp!\r\n",
      "Wait!\tWarte!\r\n"
     ]
    }
   ],
   "source": [
    "# Examining dataset\n",
    "# The text file contains English and German translations separated by tab spacing\n",
    "!head deu.txt"
   ]
  },
  {
   "cell_type": "code",
   "execution_count": 24,
   "metadata": {},
   "outputs": [],
   "source": [
    "# Importing modules\n",
    "import string\n",
    "import numpy as np\n",
    "from numpy import array\n",
    "import pandas as pd\n",
    "from keras.models import Sequential, load_model\n",
    "from keras.layers import LSTM, Embedding, Dense, RepeatVector\n",
    "from keras.optimizers import RMSprop\n",
    "from keras.preprocessing.text import Tokenizer\n",
    "from keras.callbacks import ModelCheckpoint\n",
    "from keras.preprocessing.sequence import pad_sequences\n",
    "from sklearn.model_selection import train_test_split\n",
    "import matplotlib.pyplot as plt"
   ]
  },
  {
   "cell_type": "code",
   "execution_count": 18,
   "metadata": {},
   "outputs": [
    {
     "name": "stdout",
     "output_type": "stream",
     "text": [
      "[['Hi.' 'Hallo!']\n",
      " ['Hi.' 'Grüß Gott!']\n",
      " ['Run!' 'Lauf!']\n",
      " ['Wow!' 'Potzdonner!']\n",
      " ['Wow!' 'Donnerwetter!']]\n"
     ]
    }
   ],
   "source": [
    "# Extracting lines from dataset and into array\n",
    "deu_eng = open('deu.txt', mode='rt', encoding='utf-8')\n",
    "deu_eng = deu_eng.read()\n",
    "deu_eng = deu_eng.strip().split('\\n')\n",
    "deu_eng = [i.split('\\t') for i in deu_eng]\n",
    "deu_eng = array(deu_eng)\n",
    "deu_eng = deu_eng[:50000, :]\n",
    "print (deu_eng[:5])"
   ]
  },
  {
   "cell_type": "code",
   "execution_count": 21,
   "metadata": {},
   "outputs": [
    {
     "name": "stdout",
     "output_type": "stream",
     "text": [
      "[['hi' 'hallo']\n",
      " ['hi' 'grüß gott']\n",
      " ['run' 'lauf']\n",
      " ['wow' 'potzdonner']\n",
      " ['wow' 'donnerwetter']]\n"
     ]
    }
   ],
   "source": [
    "# Removing punctuation and converting to lowercase\n",
    "deu_eng[:, 0] = [s.translate((str.maketrans('', '', string.punctuation))) for s in deu_eng[:, 0]]\n",
    "deu_eng[:, 1] = [s.translate((str.maketrans('', '', string.punctuation))) for s in deu_eng[:, 1]]\n",
    "\n",
    "for i in range(len(deu_eng)):\n",
    "    deu_eng[i, 0] = deu_eng[i, 0].lower()\n",
    "    deu_eng[i, 1] = deu_eng[i, 1].lower()\n",
    "\n",
    "print (deu_eng[:5])"
   ]
  },
  {
   "cell_type": "code",
   "execution_count": 23,
   "metadata": {},
   "outputs": [
    {
     "name": "stdout",
     "output_type": "stream",
     "text": [
      "English vocabulary size: 6392\n",
      "German vocabulary size: 10760\n"
     ]
    }
   ],
   "source": [
    "# Tokenizing the lines\n",
    "def tokenize(lines):\n",
    "    tokenizer = Tokenizer()\n",
    "    tokenizer.fit_on_texts(lines)\n",
    "    \n",
    "    return tokenizer\n",
    "    \n",
    "eng_tokenizer = tokenize(deu_eng[:, 0])\n",
    "eng_vocab_size = len(eng_tokenizer.word_index) + 1\n",
    "eng_sequence_length = 8\n",
    "print ('English vocabulary size: {}'.format(eng_vocab_size))\n",
    "\n",
    "deu_tokenizer = tokenize(deu_eng[:, 1])\n",
    "deu_vocab_size = len(deu_tokenizer.word_index) + 1\n",
    "deu_sequence_length = 8\n",
    "print ('German vocabulary size: {}'.format(deu_vocab_size))"
   ]
  },
  {
   "cell_type": "code",
   "execution_count": 31,
   "metadata": {},
   "outputs": [],
   "source": [
    "# Convert lines into sequences as input for NMT model\n",
    "def encode_sequences(tokenizer, sequence_length, lines):\n",
    "    sequence = tokenizer.texts_to_sequences(lines)\n",
    "    sequence = pad_sequences(sequence, sequence_length, padding=\"post\") # 0s after the actual sequence\n",
    "    return sequence"
   ]
  },
  {
   "cell_type": "code",
   "execution_count": 30,
   "metadata": {},
   "outputs": [
    {
     "name": "stdout",
     "output_type": "stream",
     "text": [
      "(40000, 8) (40000, 8)\n",
      "(10000, 8) (10000, 8)\n"
     ]
    }
   ],
   "source": [
    "train, test = train_test_split(deu_eng, test_size=.2, random_state=12)\n",
    "\n",
    "x_train = encode_sequences(deu_tokenizer, deu_sequence_length, train[:, 1])\n",
    "y_train = encode_sequences(eng_tokenizer, eng_sequence_length, train[:, 0])\n",
    "\n",
    "x_test = encode_sequences(deu_tokenizer, deu_sequence_length, test[:, 1])\n",
    "y_test = encode_sequences(eng_tokenizer, eng_sequence_length, test[:, 0])\n",
    "\n",
    "print (x_train.shape, y_train.shape)\n",
    "print (x_test.shape, x_test.shape)"
   ]
  },
  {
   "cell_type": "code",
   "execution_count": 32,
   "metadata": {},
   "outputs": [
    {
     "name": "stdout",
     "output_type": "stream",
     "text": [
      "WARNING:tensorflow:From /Users/anrisu.homegmail.com/miniconda3/envs/TensorFlow/lib/python3.6/site-packages/tensorflow/python/framework/op_def_library.py:263: colocate_with (from tensorflow.python.framework.ops) is deprecated and will be removed in a future version.\n",
      "Instructions for updating:\n",
      "Colocations handled automatically by placer.\n",
      "_________________________________________________________________\n",
      "Layer (type)                 Output Shape              Param #   \n",
      "=================================================================\n",
      "embedding_1 (Embedding)      (None, 8, 512)            5509120   \n",
      "_________________________________________________________________\n",
      "lstm_1 (LSTM)                (None, 512)               2099200   \n",
      "_________________________________________________________________\n",
      "repeat_vector_1 (RepeatVecto (None, 8, 512)            0         \n",
      "_________________________________________________________________\n",
      "lstm_2 (LSTM)                (None, 8, 512)            2099200   \n",
      "_________________________________________________________________\n",
      "dense_1 (Dense)              (None, 8, 6392)           3279096   \n",
      "=================================================================\n",
      "Total params: 12,986,616\n",
      "Trainable params: 12,986,616\n",
      "Non-trainable params: 0\n",
      "_________________________________________________________________\n"
     ]
    }
   ],
   "source": [
    "def neural_machine_translation(in_vocab, out_vocab, in_timesteps, out_timesteps, units):\n",
    "    model = Sequential()\n",
    "    model.add(Embedding(in_vocab, units, input_length=in_timesteps, mask_zero=True))\n",
    "    model.add(LSTM(units))\n",
    "    model.add(RepeatVector(out_timesteps))\n",
    "    model.add(LSTM(units, return_sequences=True))\n",
    "    model.add(Dense(out_vocab, activation='softmax'))\n",
    "    \n",
    "    return model\n",
    "\n",
    "model = neural_machine_translation(deu_vocab_size, eng_vocab_size, deu_sequence_length, eng_sequence_length, 512)\n",
    "rms = RMSprop(lr=0.001)\n",
    "model.compile(loss='sparse_categorical_crossentropy', optimizer=rms)\n",
    "model.summary()"
   ]
  },
  {
   "cell_type": "code",
   "execution_count": 35,
   "metadata": {},
   "outputs": [
    {
     "name": "stdout",
     "output_type": "stream",
     "text": [
      "Train on 32000 samples, validate on 8000 samples\n",
      "Epoch 1/30\n",
      "32000/32000 [==============================] - 271s 8ms/step - loss: 3.1834 - val_loss: 2.9820\n",
      "\n",
      "Epoch 00001: val_loss improved from inf to 2.98200, saving model to nmt_model.h1\n",
      "Epoch 2/30\n",
      "32000/32000 [==============================] - 289s 9ms/step - loss: 2.8846 - val_loss: 2.8202\n",
      "\n",
      "Epoch 00002: val_loss improved from 2.98200 to 2.82023, saving model to nmt_model.h1\n",
      "Epoch 3/30\n",
      "32000/32000 [==============================] - 248s 8ms/step - loss: 2.7003 - val_loss: 2.7159\n",
      "\n",
      "Epoch 00003: val_loss improved from 2.82023 to 2.71590, saving model to nmt_model.h1\n",
      "Epoch 4/30\n",
      "32000/32000 [==============================] - 242s 8ms/step - loss: 2.5456 - val_loss: 2.5544\n",
      "\n",
      "Epoch 00004: val_loss improved from 2.71590 to 2.55437, saving model to nmt_model.h1\n",
      "Epoch 5/30\n",
      "32000/32000 [==============================] - 241s 8ms/step - loss: 2.4035 - val_loss: 2.4277\n",
      "\n",
      "Epoch 00005: val_loss improved from 2.55437 to 2.42772, saving model to nmt_model.h1\n",
      "Epoch 6/30\n",
      "32000/32000 [==============================] - 242s 8ms/step - loss: 2.2660 - val_loss: 2.3306\n",
      "\n",
      "Epoch 00006: val_loss improved from 2.42772 to 2.33055, saving model to nmt_model.h1\n",
      "Epoch 7/30\n",
      "32000/32000 [==============================] - 242s 8ms/step - loss: 2.1444 - val_loss: 2.2476\n",
      "\n",
      "Epoch 00007: val_loss improved from 2.33055 to 2.24758, saving model to nmt_model.h1\n",
      "Epoch 8/30\n",
      "32000/32000 [==============================] - 259s 8ms/step - loss: 2.0247 - val_loss: 2.1654\n",
      "\n",
      "Epoch 00008: val_loss improved from 2.24758 to 2.16540, saving model to nmt_model.h1\n",
      "Epoch 9/30\n",
      "32000/32000 [==============================] - 251s 8ms/step - loss: 1.9149 - val_loss: 2.0808\n",
      "\n",
      "Epoch 00009: val_loss improved from 2.16540 to 2.08077, saving model to nmt_model.h1\n",
      "Epoch 10/30\n",
      "32000/32000 [==============================] - 402s 13ms/step - loss: 1.8057 - val_loss: 2.0338\n",
      "\n",
      "Epoch 00010: val_loss improved from 2.08077 to 2.03381, saving model to nmt_model.h1\n",
      "Epoch 11/30\n",
      "32000/32000 [==============================] - 529s 17ms/step - loss: 1.7026 - val_loss: 1.9761\n",
      "\n",
      "Epoch 00011: val_loss improved from 2.03381 to 1.97606, saving model to nmt_model.h1\n",
      "Epoch 12/30\n",
      "32000/32000 [==============================] - 2584s 81ms/step - loss: 1.6050 - val_loss: 1.8917\n",
      "\n",
      "Epoch 00012: val_loss improved from 1.97606 to 1.89172, saving model to nmt_model.h1\n",
      "Epoch 13/30\n",
      "32000/32000 [==============================] - 253s 8ms/step - loss: 1.5095 - val_loss: 1.8193\n",
      "\n",
      "Epoch 00013: val_loss improved from 1.89172 to 1.81932, saving model to nmt_model.h1\n",
      "Epoch 14/30\n",
      "32000/32000 [==============================] - 257s 8ms/step - loss: 1.4212 - val_loss: 1.7717\n",
      "\n",
      "Epoch 00014: val_loss improved from 1.81932 to 1.77165, saving model to nmt_model.h1\n",
      "Epoch 15/30\n",
      "32000/32000 [==============================] - 267s 8ms/step - loss: 1.3334 - val_loss: 1.7113\n",
      "\n",
      "Epoch 00015: val_loss improved from 1.77165 to 1.71131, saving model to nmt_model.h1\n",
      "Epoch 16/30\n",
      "32000/32000 [==============================] - 3727s 116ms/step - loss: 1.2505 - val_loss: 1.6842\n",
      "\n",
      "Epoch 00016: val_loss improved from 1.71131 to 1.68422, saving model to nmt_model.h1\n",
      "Epoch 17/30\n",
      "32000/32000 [==============================] - 287s 9ms/step - loss: 1.1716 - val_loss: 1.6359\n",
      "\n",
      "Epoch 00017: val_loss improved from 1.68422 to 1.63591, saving model to nmt_model.h1\n",
      "Epoch 18/30\n",
      "32000/32000 [==============================] - 253s 8ms/step - loss: 1.0957 - val_loss: 1.5934\n",
      "\n",
      "Epoch 00018: val_loss improved from 1.63591 to 1.59344, saving model to nmt_model.h1\n",
      "Epoch 19/30\n",
      "32000/32000 [==============================] - 283s 9ms/step - loss: 1.0230 - val_loss: 1.5716\n",
      "\n",
      "Epoch 00019: val_loss improved from 1.59344 to 1.57164, saving model to nmt_model.h1\n",
      "Epoch 20/30\n",
      "32000/32000 [==============================] - 275s 9ms/step - loss: 0.9532 - val_loss: 1.5455\n",
      "\n",
      "Epoch 00020: val_loss improved from 1.57164 to 1.54548, saving model to nmt_model.h1\n",
      "Epoch 21/30\n",
      "32000/32000 [==============================] - 262s 8ms/step - loss: 0.8884 - val_loss: 1.5183\n",
      "\n",
      "Epoch 00021: val_loss improved from 1.54548 to 1.51833, saving model to nmt_model.h1\n",
      "Epoch 22/30\n",
      "32000/32000 [==============================] - 291s 9ms/step - loss: 0.8243 - val_loss: 1.5125\n",
      "\n",
      "Epoch 00022: val_loss improved from 1.51833 to 1.51252, saving model to nmt_model.h1\n",
      "Epoch 23/30\n",
      "32000/32000 [==============================] - 256s 8ms/step - loss: 0.7650 - val_loss: 1.4765\n",
      "\n",
      "Epoch 00023: val_loss improved from 1.51252 to 1.47646, saving model to nmt_model.h1\n",
      "Epoch 24/30\n",
      "32000/32000 [==============================] - 269s 8ms/step - loss: 0.7101 - val_loss: 1.4637\n",
      "\n",
      "Epoch 00024: val_loss improved from 1.47646 to 1.46370, saving model to nmt_model.h1\n",
      "Epoch 25/30\n",
      "32000/32000 [==============================] - 261s 8ms/step - loss: 0.6569 - val_loss: 1.4438\n",
      "\n",
      "Epoch 00025: val_loss improved from 1.46370 to 1.44377, saving model to nmt_model.h1\n",
      "Epoch 26/30\n",
      "32000/32000 [==============================] - 341s 11ms/step - loss: 0.6078 - val_loss: 1.4447\n",
      "\n",
      "Epoch 00026: val_loss did not improve from 1.44377\n",
      "Epoch 27/30\n",
      "32000/32000 [==============================] - 271s 8ms/step - loss: 0.5578 - val_loss: 1.4212\n",
      "\n",
      "Epoch 00027: val_loss improved from 1.44377 to 1.42123, saving model to nmt_model.h1\n",
      "Epoch 28/30\n",
      "32000/32000 [==============================] - 245s 8ms/step - loss: 0.5162 - val_loss: 1.4061\n",
      "\n",
      "Epoch 00028: val_loss improved from 1.42123 to 1.40612, saving model to nmt_model.h1\n",
      "Epoch 29/30\n",
      "32000/32000 [==============================] - 246s 8ms/step - loss: 0.4724 - val_loss: 1.4175\n",
      "\n",
      "Epoch 00029: val_loss did not improve from 1.40612\n",
      "Epoch 30/30\n",
      "32000/32000 [==============================] - 2827s 88ms/step - loss: 0.4346 - val_loss: 1.3986\n",
      "\n",
      "Epoch 00030: val_loss improved from 1.40612 to 1.39856, saving model to nmt_model.h1\n"
     ]
    }
   ],
   "source": [
    "filename = 'nmt_model.h1'\n",
    "checkpoint = ModelCheckpoint(filename, monitor=\"val_loss\", verbose=1, save_best_only=True, mode=\"min\")\n",
    "history = model.fit(x_train, y_train.reshape(y_train.shape[0], y_train.shape[1], 1), epochs=30, batch_size=512, validation_split=0.2, callbacks=[checkpoint])"
   ]
  },
  {
   "cell_type": "code",
   "execution_count": 36,
   "metadata": {},
   "outputs": [
    {
     "data": {
      "image/png": "[encoded data removed]",
      "text/plain": [
       "<Figure size 432x288 with 1 Axes>"
      ]
     },
     "metadata": {
      "needs_background": "light"
     },
     "output_type": "display_data"
    }
   ],
   "source": [
    "plt.plot(history.history['loss'])\n",
    "plt.plot(history.history['val_loss'])\n",
    "plt.legend(['train', 'validation'])\n",
    "plt.show()"
   ]
  },
  {
   "cell_type": "code",
   "execution_count": 39,
   "metadata": {},
   "outputs": [
    {
     "name": "stdout",
     "output_type": "stream",
     "text": [
      "[[  2  97  49  41  50   0   0   0]\n",
      " [  2  94  64   0   0   0   0   0]\n",
      " [193  64   9   9   0   0   0   0]\n",
      " [  2 113   3   5   0   0   0   0]\n",
      " [  1   4  28  54  54   0   0   0]]\n"
     ]
    }
   ],
   "source": [
    "# Loading model weights\n",
    "model = load_model('nmt_model.h1')\n",
    "preds = model.predict_classes(x_test.reshape(x_test.shape[0], x_test.shape[1]))\n",
    "print (preds[:5])"
   ]
  },
  {
   "cell_type": "code",
   "execution_count": 40,
   "metadata": {},
   "outputs": [],
   "source": [
    "def convert_words(n, tokenizer):\n",
    "    for word, idx in tokenizer.word_index.items():\n",
    "        if idx == n:\n",
    "            return word\n",
    "    return None"
   ]
  },
  {
   "cell_type": "code",
   "execution_count": 43,
   "metadata": {},
   "outputs": [
    {
     "name": "stdout",
     "output_type": "stream",
     "text": [
      "                      actual                 prediction\n",
      "4097      tom picked mary up         tom sent mary     \n",
      "8050  do you like this color  do you like this color   \n",
      "1142    it is out of fashion   its about the corner    \n",
      "3085     people dont do that            dont  that     \n",
      "1189         lets start here       lets start here     \n",
      "1264              he is a dj    hes a tennis person    \n",
      "3453           im a diabetic       im am geography     \n",
      "3356    when did that happen     when does it occur    \n",
      "9895         tom is forceful       tom is stubborn     \n",
      "6992        youre incredible    theyre incredible      \n",
      "6977        i hate chemistry       i hate reptiles     \n",
      "2777   please read that book   please read the book    \n",
      "846          we all love tom            we all tom     \n",
      "5676      tom isnt the enemy     tom isnt our enemy    \n",
      "3935           tom dozed off        tom was asleep     \n"
     ]
    }
   ],
   "source": [
    "pred_texts = []\n",
    "for i in preds:\n",
    "    temp = []\n",
    "    for j in range(len(i)):\n",
    "        word = convert_words(i[j], eng_tokenizer)\n",
    "        if j > 0:\n",
    "            if (word == convert_words(i[j-1], eng_tokenizer)) or (word == None):\n",
    "                temp.append('')\n",
    "            else:\n",
    "                temp.append(word)\n",
    "        else:\n",
    "            if (word == None):\n",
    "                temp.append('')\n",
    "            else:\n",
    "                temp.append(word)\n",
    "                \n",
    "    pred_texts.append(' '.join(temp))    \n",
    "    \n",
    "pred_df = pd.DataFrame({'actual': test[:, 0], 'prediction': pred_texts})"
   ]
  },
  {
   "cell_type": "code",
   "execution_count": 47,
   "metadata": {},
   "outputs": [
    {
     "data": {
      "text/html": [
       "<div>\n",
       "<style scoped>\n",
       "    .dataframe tbody tr th:only-of-type {\n",
       "        vertical-align: middle;\n",
       "    }\n",
       "\n",
       "    .dataframe tbody tr th {\n",
       "        vertical-align: top;\n",
       "    }\n",
       "\n",
       "    .dataframe thead th {\n",
       "        text-align: right;\n",
       "    }\n",
       "</style>\n",
       "<table border=\"1\" class=\"dataframe\">\n",
       "  <thead>\n",
       "    <tr style=\"text-align: right;\">\n",
       "      <th></th>\n",
       "      <th>actual</th>\n",
       "      <th>prediction</th>\n",
       "    </tr>\n",
       "  </thead>\n",
       "  <tbody>\n",
       "    <tr>\n",
       "      <th>1244</th>\n",
       "      <td>we miss you very much</td>\n",
       "      <td>we miss you a lot</td>\n",
       "    </tr>\n",
       "    <tr>\n",
       "      <th>9900</th>\n",
       "      <td>tom kept me waiting</td>\n",
       "      <td>tom let me wait</td>\n",
       "    </tr>\n",
       "    <tr>\n",
       "      <th>1766</th>\n",
       "      <td>tom was also there</td>\n",
       "      <td>tom was there</td>\n",
       "    </tr>\n",
       "    <tr>\n",
       "      <th>6008</th>\n",
       "      <td>i need this job</td>\n",
       "      <td>i need this job</td>\n",
       "    </tr>\n",
       "    <tr>\n",
       "      <th>7206</th>\n",
       "      <td>they spotted tom</td>\n",
       "      <td>youve have tom</td>\n",
       "    </tr>\n",
       "    <tr>\n",
       "      <th>1261</th>\n",
       "      <td>youre ugly</td>\n",
       "      <td>youre are ugly</td>\n",
       "    </tr>\n",
       "    <tr>\n",
       "      <th>1436</th>\n",
       "      <td>tom is a boy scout</td>\n",
       "      <td>tom is adaptable</td>\n",
       "    </tr>\n",
       "    <tr>\n",
       "      <th>7131</th>\n",
       "      <td>its my fault</td>\n",
       "      <td>im am to blame this</td>\n",
       "    </tr>\n",
       "    <tr>\n",
       "      <th>7049</th>\n",
       "      <td>she made him cry</td>\n",
       "      <td>she made him cry</td>\n",
       "    </tr>\n",
       "    <tr>\n",
       "      <th>8070</th>\n",
       "      <td>he knows how to swim</td>\n",
       "      <td>he can swim</td>\n",
       "    </tr>\n",
       "    <tr>\n",
       "      <th>7985</th>\n",
       "      <td>schools not fun</td>\n",
       "      <td>its is like</td>\n",
       "    </tr>\n",
       "    <tr>\n",
       "      <th>7396</th>\n",
       "      <td>dont kid about that</td>\n",
       "      <td>dont worry about</td>\n",
       "    </tr>\n",
       "    <tr>\n",
       "      <th>6894</th>\n",
       "      <td>do you have a copy</td>\n",
       "      <td>do you have a copy</td>\n",
       "    </tr>\n",
       "    <tr>\n",
       "      <th>2887</th>\n",
       "      <td>who wants to kill you</td>\n",
       "      <td>who wants you us</td>\n",
       "    </tr>\n",
       "    <tr>\n",
       "      <th>8041</th>\n",
       "      <td>she has a few books</td>\n",
       "      <td>she loves more books</td>\n",
       "    </tr>\n",
       "  </tbody>\n",
       "</table>\n",
       "</div>"
      ],
      "text/plain": [
       "                     actual                prediction\n",
       "1244  we miss you very much      we miss you a lot   \n",
       "9900    tom kept me waiting       tom let me wait    \n",
       "1766     tom was also there        tom was there     \n",
       "6008        i need this job       i need this job    \n",
       "7206       they spotted tom       youve have tom     \n",
       "1261             youre ugly       youre are ugly     \n",
       "1436     tom is a boy scout     tom is adaptable     \n",
       "7131           its my fault    im am to blame this   \n",
       "7049       she made him cry      she made him cry    \n",
       "8070   he knows how to swim          he can swim     \n",
       "7985        schools not fun          its is like     \n",
       "7396    dont kid about that     dont worry about     \n",
       "6894     do you have a copy     do you have a copy   \n",
       "2887  who wants to kill you      who wants you us    \n",
       "8041    she has a few books  she loves more books    "
      ]
     },
     "execution_count": 47,
     "metadata": {},
     "output_type": "execute_result"
    }
   ],
   "source": [
    "pred_df.sample(15)"
   ]
  },
  {
   "cell_type": "code",
   "execution_count": 64,
   "metadata": {},
   "outputs": [
    {
     "name": "stdout",
     "output_type": "stream",
     "text": [
      "[[   7   85  506  267    0    0    0    0]\n",
      " [1027   43   17    3    0    0    0    0]]\n",
      "['schon nicht haus', 'können sie']\n"
     ]
    }
   ],
   "source": [
    "# Testing the model on custom text\n",
    "text = [\"The car wouldn't start.\", 'Hello. How are you?']\n",
    "instances = []\n",
    "for i in range(len(text)):\n",
    "    temp = []\n",
    "    for word in text[i].split(' '):\n",
    "        temp.append(word.translate(str.maketrans('', '', string.punctuation)).lower())\n",
    "    instances.append(' '.join(temp))\n",
    "    \n",
    "instances = eng_tokenizer.texts_to_sequences(instances)\n",
    "instances = pad_sequences(instances, maxlen=8, padding=\"post\")\n",
    "print (instances)\n",
    "\n",
    "pred = model.predict_classes(instances)\n",
    "preds = []\n",
    "for i in pred:\n",
    "    temp = []\n",
    "    for j in i:\n",
    "        for word, index in deu_tokenizer.word_index.items():\n",
    "            if index == j:\n",
    "                temp.append(word)\n",
    "    preds.append(' '.join(temp))\n",
    "\n",
    "print (preds)"
   ]
  },
  {
   "cell_type": "code",
   "execution_count": null,
   "metadata": {},
   "outputs": [],
   "source": []
  }
 ],
 "metadata": {
  "kernelspec": {
   "display_name": "Python 3",
   "language": "python",
   "name": "python3"
  },
  "language_info": {
   "codemirror_mode": {
    "name": "ipython",
    "version": 3
   },
   "file_extension": ".py",
   "mimetype": "text/x-python",
   "name": "python",
   "nbconvert_exporter": "python",
   "pygments_lexer": "ipython3",
   "version": "3.6.7"
  }
 },
 "nbformat": 4,
 "nbformat_minor": 2
}
